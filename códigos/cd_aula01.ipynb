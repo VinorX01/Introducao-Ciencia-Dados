{
  "nbformat": 4,
  "nbformat_minor": 0,
  "metadata": {
    "colab": {
      "provenance": []
    },
    "kernelspec": {
      "name": "python3",
      "display_name": "Python 3"
    },
    "language_info": {
      "name": "python"
    }
  },
  "cells": [
    {
      "cell_type": "code",
      "execution_count": null,
      "metadata": {
        "colab": {
          "base_uri": "https://localhost:8080/"
        },
        "id": "iWEJKWMEjMZw",
        "outputId": "c17837f4-111d-4245-b604-bd877bafd4c4"
      },
      "outputs": [
        {
          "output_type": "stream",
          "name": "stdout",
          "text": [
            "Hello World!\n"
          ]
        }
      ],
      "source": [
        "print('Hello World!')"
      ]
    },
    {
      "cell_type": "code",
      "source": [
        "message = 'Olá, mundo!'"
      ],
      "metadata": {
        "id": "zHIcLcZFk2N2"
      },
      "execution_count": null,
      "outputs": []
    },
    {
      "cell_type": "code",
      "source": [
        "print(message)"
      ],
      "metadata": {
        "colab": {
          "base_uri": "https://localhost:8080/"
        },
        "id": "-D0qF8Zvk8Ct",
        "outputId": "b1655639-0f3e-4bd4-9b79-0d6ef1136220"
      },
      "execution_count": null,
      "outputs": [
        {
          "output_type": "stream",
          "name": "stdout",
          "text": [
            "Olá, mundo!\n"
          ]
        }
      ]
    },
    {
      "cell_type": "code",
      "source": [
        "len(message)"
      ],
      "metadata": {
        "colab": {
          "base_uri": "https://localhost:8080/"
        },
        "id": "ujwsl74Dk8gu",
        "outputId": "fd11fea6-a02b-47d1-91d0-af2f5bacde0d"
      },
      "execution_count": null,
      "outputs": [
        {
          "output_type": "execute_result",
          "data": {
            "text/plain": [
              "11"
            ]
          },
          "metadata": {},
          "execution_count": 5
        }
      ]
    },
    {
      "cell_type": "markdown",
      "source": [
        "**Qual a sintaxe de um objeto de tipo String?**\n",
        "\n",
        "**Sintaxe: \"\"**"
      ],
      "metadata": {
        "id": "jPRuMrFDlH5v"
      }
    },
    {
      "cell_type": "code",
      "source": [
        "print(\"\\t texto\")"
      ],
      "metadata": {
        "colab": {
          "base_uri": "https://localhost:8080/"
        },
        "id": "ZHYJzN_dk_71",
        "outputId": "da0955ab-d5b0-40ae-b977-c9b252747dbc"
      },
      "execution_count": null,
      "outputs": [
        {
          "output_type": "stream",
          "name": "stdout",
          "text": [
            "\t \\. texto\n"
          ]
        }
      ]
    },
    {
      "cell_type": "markdown",
      "source": [
        "**É iterável?**"
      ],
      "metadata": {
        "id": "SmYuF1Bcl_FC"
      }
    },
    {
      "cell_type": "code",
      "source": [
        "from collections.abc import Iterable\n",
        "isinstance(\"@Y1 tpx\", Iterable)"
      ],
      "metadata": {
        "colab": {
          "base_uri": "https://localhost:8080/"
        },
        "id": "LxxUqkYTl-wr",
        "outputId": "caa768d2-8d2e-4d0d-da49-491c7951b6c6"
      },
      "execution_count": null,
      "outputs": [
        {
          "output_type": "execute_result",
          "data": {
            "text/plain": [
              "True"
            ]
          },
          "metadata": {},
          "execution_count": 23
        }
      ]
    },
    {
      "cell_type": "code",
      "source": [
        "from collections.abc import (MutableSet, MutableSequence, MutableMapping)\n",
        "isinstance(\"@Y1 tpx\", (MutableSet, MutableSequence, MutableMapping))"
      ],
      "metadata": {
        "colab": {
          "base_uri": "https://localhost:8080/"
        },
        "id": "p3eITjoxmYmy",
        "outputId": "42654246-c1a4-4da1-87c9-934520109736"
      },
      "execution_count": null,
      "outputs": [
        {
          "output_type": "execute_result",
          "data": {
            "text/plain": [
              "False"
            ]
          },
          "metadata": {},
          "execution_count": 24
        }
      ]
    },
    {
      "cell_type": "code",
      "source": [
        "[metodo for metodo in dir(str) if metodo[0] != \"_\"]"
      ],
      "metadata": {
        "id": "U3Nb84xunC14"
      },
      "execution_count": null,
      "outputs": []
    },
    {
      "cell_type": "code",
      "source": [
        "fruta = \"abacaxi\""
      ],
      "metadata": {
        "id": "V1KG5LiinnG1"
      },
      "execution_count": null,
      "outputs": []
    },
    {
      "cell_type": "code",
      "source": [
        "fruta.upper()"
      ],
      "metadata": {
        "colab": {
          "base_uri": "https://localhost:8080/",
          "height": 35
        },
        "id": "I-D5K-Cxnpp9",
        "outputId": "0b6f5f07-f836-4c3c-fb3f-5078c23b749a"
      },
      "execution_count": null,
      "outputs": [
        {
          "output_type": "execute_result",
          "data": {
            "text/plain": [
              "'ABACAXI'"
            ],
            "application/vnd.google.colaboratory.intrinsic+json": {
              "type": "string"
            }
          },
          "metadata": {},
          "execution_count": 26
        }
      ]
    },
    {
      "cell_type": "code",
      "source": [
        "fruta.replace('aba', 'ixa')"
      ],
      "metadata": {
        "colab": {
          "base_uri": "https://localhost:8080/",
          "height": 35
        },
        "id": "tjtsUgMNn6tl",
        "outputId": "6ee9f1d1-85a2-4be9-c2c7-bd0446fa91cd"
      },
      "execution_count": null,
      "outputs": [
        {
          "output_type": "execute_result",
          "data": {
            "text/plain": [
              "'ixacaxi'"
            ],
            "application/vnd.google.colaboratory.intrinsic+json": {
              "type": "string"
            }
          },
          "metadata": {},
          "execution_count": 33
        }
      ]
    },
    {
      "cell_type": "code",
      "source": [
        "print(fruta)"
      ],
      "metadata": {
        "colab": {
          "base_uri": "https://localhost:8080/"
        },
        "id": "0d4n-hGYpH6i",
        "outputId": "b521688c-efae-479a-d1e8-e03bbbb64816"
      },
      "execution_count": null,
      "outputs": [
        {
          "output_type": "stream",
          "name": "stdout",
          "text": [
            "abacaxi\n"
          ]
        }
      ]
    },
    {
      "cell_type": "markdown",
      "source": [
        "**Operações com strings**"
      ],
      "metadata": {
        "id": "56HgRuZUpZhy"
      }
    },
    {
      "cell_type": "code",
      "source": [
        "parte_01 = 'aba'\n",
        "parte_02 = 'caxi'\n",
        "print(parte_01 + parte_02)"
      ],
      "metadata": {
        "colab": {
          "base_uri": "https://localhost:8080/"
        },
        "id": "bS53BjwgpcYI",
        "outputId": "37c53bec-0cd6-4ebf-8391-e5f2c946b079"
      },
      "execution_count": null,
      "outputs": [
        {
          "output_type": "stream",
          "name": "stdout",
          "text": [
            "abacaxi\n"
          ]
        }
      ]
    },
    {
      "cell_type": "code",
      "source": [
        "jedi = 'skywalker'"
      ],
      "metadata": {
        "id": "2VvgxyOsqBt2"
      },
      "execution_count": null,
      "outputs": []
    },
    {
      "cell_type": "code",
      "source": [
        "print(jedi[0], jedi[1])"
      ],
      "metadata": {
        "colab": {
          "base_uri": "https://localhost:8080/"
        },
        "id": "owtTgcveqGwX",
        "outputId": "31cb3656-156d-4d1a-c4f5-3fc0babd9aa3"
      },
      "execution_count": null,
      "outputs": [
        {
          "output_type": "stream",
          "name": "stdout",
          "text": [
            "s k\n"
          ]
        }
      ]
    },
    {
      "cell_type": "code",
      "source": [
        "print(jedi[3: 7])"
      ],
      "metadata": {
        "colab": {
          "base_uri": "https://localhost:8080/"
        },
        "id": "cQlilS4NqgH9",
        "outputId": "1a4bfde9-0976-4d05-a5cd-b72406242510"
      },
      "execution_count": null,
      "outputs": [
        {
          "output_type": "stream",
          "name": "stdout",
          "text": [
            "walk\n"
          ]
        }
      ]
    },
    {
      "cell_type": "markdown",
      "source": [
        "\n",
        "### **Testar para todos os objetos:**\n",
        "`int`, `float`, `bool`, `list`, `tuple`, `set`, `dict`\n"
      ],
      "metadata": {
        "id": "GK2-4hv4q4OV"
      }
    },
    {
      "cell_type": "code",
      "source": [
        "# SINTAXE\n",
        "print('|SINTAXE|\\n')\n",
        "print(\"\\'texto\\'\")\n",
        "print(2)\n",
        "print(2.567)\n",
        "print(True)\n",
        "print([0, 1, 2, 3, 4])\n",
        "print((0, 1, 2, 3, 4))\n",
        "print({0, 1, 2, 3, 4})\n",
        "print({'zero': 0, 'um': 1, 'dois': 2, 'três': 3, 'quatro': 4})"
      ],
      "metadata": {
        "colab": {
          "base_uri": "https://localhost:8080/"
        },
        "id": "qepAyUY9qskU",
        "outputId": "5f3ab4fe-77ef-4f95-9765-5cb6615d178a"
      },
      "execution_count": null,
      "outputs": [
        {
          "output_type": "stream",
          "name": "stdout",
          "text": [
            "|SINTAXE|\n",
            "\n",
            "'texto'\n",
            "2\n",
            "2.567\n",
            "True\n",
            "[0, 1, 2, 3, 4]\n",
            "(0, 1, 2, 3, 4)\n",
            "{0, 1, 2, 3, 4}\n",
            "{'zero': 0, 'um': 1, 'dois': 2, 'três': 3, 'quatro': 4}\n"
          ]
        }
      ]
    },
    {
      "cell_type": "code",
      "source": [
        "# ITERÁVEL\n",
        "from collections.abc import Iterable\n",
        "\n",
        "print('|ITERÁVEL|\\n')\n",
        "print('str:', isinstance('texto', Iterable))\n",
        "print('int:', isinstance(2, Iterable))\n",
        "print('float:', isinstance(2.567, Iterable))\n",
        "print('bool:', isinstance(True, Iterable))\n",
        "print('list:', isinstance([0, 1, 2, 3, 4], Iterable))\n",
        "print('tuple:', isinstance((0, 1, 2, 3, 4), Iterable))\n",
        "print('set:', isinstance({0, 1, 2, 3, 4}, Iterable))\n",
        "print('dict:', isinstance({'zero': 0, 'um': 1, 'dois': 2, 'três': 3, 'quatro': 4}, Iterable))"
      ],
      "metadata": {
        "colab": {
          "base_uri": "https://localhost:8080/"
        },
        "id": "ows8IXdxrcK6",
        "outputId": "903a4594-11c7-44c2-adee-64e3760f4ff1"
      },
      "execution_count": null,
      "outputs": [
        {
          "output_type": "stream",
          "name": "stdout",
          "text": [
            "|ITERÁVEL|\n",
            "\n",
            "str: True\n",
            "int: False\n",
            "float: False\n",
            "bool: False\n",
            "list: True\n",
            "tuple: True\n",
            "set: True\n",
            "dict: True\n"
          ]
        }
      ]
    },
    {
      "cell_type": "code",
      "source": [
        "# MUTÁVEL\n",
        "from collections.abc import (MutableSet, MutableSequence, MutableMapping)\n",
        "\n",
        "print('|MUTÁVEL|\\n')\n",
        "print('str:', isinstance('texto', (MutableSet, MutableSequence, MutableMapping)))\n",
        "print('int:', isinstance(2, (MutableSet, MutableSequence, MutableMapping)))\n",
        "print('float:', isinstance(2.567, (MutableSet, MutableSequence, MutableMapping)))\n",
        "print('bool:', isinstance(True, (MutableSet, MutableSequence, MutableMapping)))\n",
        "print('list:', isinstance([0, 1, 2, 3, 4], (MutableSet, MutableSequence, MutableMapping)))\n",
        "print('tuple:', isinstance((0, 1, 2, 3, 4), (MutableSet, MutableSequence, MutableMapping)))\n",
        "print('set:', isinstance({0, 1, 2, 3, 4}, (MutableSet, MutableSequence, MutableMapping)))\n",
        "print('dict:', isinstance({'zero': 0, 'um': 1, 'dois': 2, 'três': 3, 'quatro': 4}, (MutableSet, MutableSequence, MutableMapping)))"
      ],
      "metadata": {
        "colab": {
          "base_uri": "https://localhost:8080/"
        },
        "id": "lYgsdEhNuTEp",
        "outputId": "437b74e6-563a-4845-8fda-2b610935775b"
      },
      "execution_count": null,
      "outputs": [
        {
          "output_type": "stream",
          "name": "stdout",
          "text": [
            "|MUTÁVEL|\n",
            "\n",
            "str: False\n",
            "int: False\n",
            "float: False\n",
            "bool: False\n",
            "list: True\n",
            "tuple: False\n",
            "set: True\n",
            "dict: True\n"
          ]
        }
      ]
    },
    {
      "cell_type": "code",
      "source": [
        "[metodo for metodo in dir(dict) if metodo[0] != \"_\"]"
      ],
      "metadata": {
        "colab": {
          "base_uri": "https://localhost:8080/"
        },
        "id": "vC3cwDVausCw",
        "outputId": "74e88fbd-0c78-4ae8-b27d-53acf59affca"
      },
      "execution_count": null,
      "outputs": [
        {
          "output_type": "execute_result",
          "data": {
            "text/plain": [
              "['clear',\n",
              " 'copy',\n",
              " 'fromkeys',\n",
              " 'get',\n",
              " 'items',\n",
              " 'keys',\n",
              " 'pop',\n",
              " 'popitem',\n",
              " 'setdefault',\n",
              " 'update',\n",
              " 'values']"
            ]
          },
          "metadata": {},
          "execution_count": 91
        }
      ]
    },
    {
      "cell_type": "code",
      "source": [
        "texto = 'texto'\n",
        "inteiro = 2\n",
        "flutuante = 2.567\n",
        "boleano = True\n",
        "lista = [0, 1, 2, 3, 4]"
      ],
      "metadata": {
        "id": "e4_No6ODxb8Q"
      },
      "execution_count": null,
      "outputs": []
    },
    {
      "cell_type": "code",
      "source": [
        "# MÉTODOS E ATRIBUTOS\n",
        "\n",
        "print('|MÉTODO|\\n')\n",
        "print('str:', texto.upper())\n",
        "print('int:', inteiro.denominator)\n",
        "print('float:', flutuante.hex())\n",
        "print('bool:', boleano.real)\n",
        "print('list:', lista.index(1))\n",
        "print('tuple:', (0, 1, 2, 3, 4).count(1))\n",
        "print('set:', {0, 1, 2, 3, 4}.pop())\n",
        "print('dict:', {'zero': 0, 'um': 1, 'dois': 2, 'três': 3, 'quatro': 4}.keys())"
      ],
      "metadata": {
        "colab": {
          "base_uri": "https://localhost:8080/"
        },
        "id": "hurPZJ3bwClj",
        "outputId": "d2141dfa-f9e0-49d6-ef62-40524ebe578a"
      },
      "execution_count": null,
      "outputs": [
        {
          "output_type": "stream",
          "name": "stdout",
          "text": [
            "|MÉTODO|\n",
            "\n",
            "str: TEXTO\n",
            "int: 1\n",
            "float: 0x1.489374bc6a7f0p+1\n",
            "bool: 1\n",
            "list: 1\n",
            "tuple: 1\n",
            "set: 0\n",
            "dict: dict_keys(['zero', 'um', 'dois', 'três', 'quatro'])\n"
          ]
        }
      ]
    },
    {
      "cell_type": "code",
      "source": [
        "# OPERAÇÕES\n",
        "\n",
        "print('|OPERAÇÕES|\\n')\n",
        "print('str:', texto+texto)\n",
        "print('int:', inteiro*inteiro)\n",
        "print('float:', flutuante/flutuante)\n",
        "print('bool:', boleano == False)\n",
        "print('list:', lista != [])\n",
        "print('tuple:', (0, 1, 2, 3, 4) * 2)\n",
        "print('set:', {0, 1, 2, 3, 4} == {0, 1, 2, 3, 4})\n",
        "print('dict:', {'zero': 0, 'um': 1, 'dois': 2, 'três': 3, 'quatro': 4}['zero'] == 0)"
      ],
      "metadata": {
        "colab": {
          "base_uri": "https://localhost:8080/"
        },
        "id": "JDsmUkR308eO",
        "outputId": "b1594417-d3e9-4992-e8b7-330d1038d36d"
      },
      "execution_count": null,
      "outputs": [
        {
          "output_type": "stream",
          "name": "stdout",
          "text": [
            "|OPERAÇÕES|\n",
            "\n",
            "str: textotexto\n",
            "int: 4\n",
            "float: 1.0\n",
            "bool: False\n",
            "list: True\n",
            "tuple: (0, 1, 2, 3, 4, 0, 1, 2, 3, 4)\n",
            "set: True\n",
            "dict: True\n"
          ]
        }
      ]
    },
    {
      "cell_type": "code",
      "source": [
        "# FATIAMENTO\n",
        "\n",
        "print('|FATIAMENTO|\\n')\n",
        "print('str:', texto[0:2])\n",
        "print('int: !ERRO!')\n",
        "print('float: !ERRO!')\n",
        "print('bool: !ERRO!')\n",
        "print('list:', lista[0:2])\n",
        "print('tuple:', (0, 1, 2, 3, 4)[0:2])\n",
        "print('set: !ERRO!')\n",
        "print('dict: !ERRO!')"
      ],
      "metadata": {
        "colab": {
          "base_uri": "https://localhost:8080/"
        },
        "id": "zkwx_XWZ1prk",
        "outputId": "6da537f9-1df8-4cda-9959-c2e8cacc889b"
      },
      "execution_count": null,
      "outputs": [
        {
          "output_type": "stream",
          "name": "stdout",
          "text": [
            "|FATIAMENTO|\n",
            "\n",
            "str: te\n",
            "int: !ERRO!\n",
            "float: !ERRO!\n",
            "bool: !ERRO!\n",
            "list: [0, 1]\n",
            "tuple: (0, 1)\n",
            "set: !ERRO!\n",
            "dict: !ERRO!\n"
          ]
        }
      ]
    }
  ]
}