{
  "nbformat": 4,
  "nbformat_minor": 0,
  "metadata": {
    "colab": {
      "provenance": []
    },
    "kernelspec": {
      "name": "python3",
      "display_name": "Python 3"
    },
    "language_info": {
      "name": "python"
    }
  },
  "cells": [
    {
      "cell_type": "code",
      "execution_count": null,
      "metadata": {
        "colab": {
          "base_uri": "https://localhost:8080/"
        },
        "id": "3z4CO8aSzNqc",
        "outputId": "e3467410-e664-4d9c-b3af-863d67c2ab79"
      },
      "outputs": [
        {
          "output_type": "stream",
          "name": "stdout",
          "text": [
            "[1, 32]\n",
            "[1, 2, 32]\n"
          ]
        }
      ],
      "source": [
        "A = [1, 2, 32]\n",
        "B = A.copy()\n",
        "\n",
        "A.remove(2)\n",
        "print(A)\n",
        "print(B)"
      ]
    },
    {
      "cell_type": "code",
      "source": [
        "c = \"oi\"\n",
        "d = c.replace('o', 'a')\n",
        "print(d)"
      ],
      "metadata": {
        "colab": {
          "base_uri": "https://localhost:8080/"
        },
        "id": "t5uLIF4D1qzM",
        "outputId": "4510cd6c-912e-4771-9ef1-93e2904561ff"
      },
      "execution_count": null,
      "outputs": [
        {
          "output_type": "stream",
          "name": "stdout",
          "text": [
            "ai\n"
          ]
        }
      ]
    },
    {
      "cell_type": "code",
      "source": [
        "montante_inicial = 1000\n",
        "\n",
        "for i in [0, 1, 2]:\n",
        "  montante_inicial = montante_inicial + 100\n",
        "\n",
        "print(montante_inicial)\n"
      ],
      "metadata": {
        "colab": {
          "base_uri": "https://localhost:8080/"
        },
        "id": "HM3B398s2ETi",
        "outputId": "0fd99c60-6f6d-4fa1-b01f-2fc66db7baa9"
      },
      "execution_count": null,
      "outputs": [
        {
          "output_type": "stream",
          "name": "stdout",
          "text": [
            "1300\n"
          ]
        }
      ]
    },
    {
      "cell_type": "code",
      "source": [
        "montante_inicial = 1000\n",
        "\n",
        "for i in [1, 2, 3]:\n",
        "  montante_inicial = montante_inicial + 100*i\n",
        "\n",
        "print(montante_inicial)\n"
      ],
      "metadata": {
        "colab": {
          "base_uri": "https://localhost:8080/"
        },
        "id": "PTjmUIZJ3_c7",
        "outputId": "fcfa96be-97fc-446a-c9ec-f469d7146b0c"
      },
      "execution_count": null,
      "outputs": [
        {
          "output_type": "stream",
          "name": "stdout",
          "text": [
            "1600\n"
          ]
        }
      ]
    },
    {
      "cell_type": "code",
      "source": [
        "montante_inicial = 1000\n",
        "\n",
        "for i in [0, 1, 2]:\n",
        "    acrescimo = 100 + i * 100\n",
        "    montante_inicial = montante_inicial + acrescimo\n",
        "\n",
        "print(montante_inicial)"
      ],
      "metadata": {
        "colab": {
          "base_uri": "https://localhost:8080/"
        },
        "id": "Br8GgFhz4QQQ",
        "outputId": "05e93978-df63-455a-b75a-c06fbc7a8665"
      },
      "execution_count": null,
      "outputs": [
        {
          "output_type": "stream",
          "name": "stdout",
          "text": [
            "1600\n"
          ]
        }
      ]
    },
    {
      "cell_type": "code",
      "source": [
        "list(range(3, 13, 2))"
      ],
      "metadata": {
        "colab": {
          "base_uri": "https://localhost:8080/"
        },
        "id": "Xtr8Vv9N5d_R",
        "outputId": "96b1b2b9-edd7-4416-89d8-1852469edc9a"
      },
      "execution_count": null,
      "outputs": [
        {
          "output_type": "execute_result",
          "data": {
            "text/plain": [
              "[3, 5, 7, 9, 11]"
            ]
          },
          "metadata": {},
          "execution_count": 15
        }
      ]
    },
    {
      "cell_type": "code",
      "source": [
        "soma = 0\n",
        "\n",
        "for contador in range(1, 200, 2):\n",
        "    soma += contador ** 2\n",
        "\n",
        "print(soma)"
      ],
      "metadata": {
        "colab": {
          "base_uri": "https://localhost:8080/"
        },
        "id": "xJTK4EeV53Sl",
        "outputId": "de5ac6d9-7dc5-44ed-cd7f-e48aeb75a0f0"
      },
      "execution_count": null,
      "outputs": [
        {
          "output_type": "stream",
          "name": "stdout",
          "text": [
            "1333300\n"
          ]
        }
      ]
    },
    {
      "cell_type": "code",
      "source": [
        "idade = 13\n",
        "\n",
        "condicao = idade < 18\n",
        "\n",
        "if condicao:\n",
        "    print('Menor de idade!')"
      ],
      "metadata": {
        "colab": {
          "base_uri": "https://localhost:8080/"
        },
        "id": "Sw1cPfjS6uqd",
        "outputId": "471e5bd4-9c00-4287-e6c0-810a2259d98f"
      },
      "execution_count": null,
      "outputs": [
        {
          "output_type": "stream",
          "name": "stdout",
          "text": [
            "Menor de idade!\n"
          ]
        }
      ]
    },
    {
      "cell_type": "code",
      "source": [
        "idade = 60\n",
        "\n",
        "if idade < 18:\n",
        "    print('Adolescente')\n",
        "elif idade >= 18 and idade < 60:\n",
        "    print('Adulto')\n",
        "else: \n",
        "    print('Idoso')"
      ],
      "metadata": {
        "colab": {
          "base_uri": "https://localhost:8080/"
        },
        "id": "_SU-OF8c7U4g",
        "outputId": "fda398c8-fa5c-4bfa-ace2-e764ad798a59"
      },
      "execution_count": null,
      "outputs": [
        {
          "output_type": "stream",
          "name": "stdout",
          "text": [
            "Idoso\n"
          ]
        }
      ]
    },
    {
      "cell_type": "code",
      "source": [
        "def quadrado(numero):\n",
        "    resultado = numero * numero\n",
        "    return resultado\n",
        "\n",
        "quadrado(12)"
      ],
      "metadata": {
        "colab": {
          "base_uri": "https://localhost:8080/"
        },
        "id": "__HQVKV68Wn6",
        "outputId": "15ba3607-4c96-445f-c3da-99e0d2231152"
      },
      "execution_count": null,
      "outputs": [
        {
          "output_type": "execute_result",
          "data": {
            "text/plain": [
              "144"
            ]
          },
          "metadata": {},
          "execution_count": 32
        }
      ]
    },
    {
      "cell_type": "code",
      "source": [
        "quadrado = lambda numero : numero * numero\n",
        "quadrado(3)"
      ],
      "metadata": {
        "colab": {
          "base_uri": "https://localhost:8080/"
        },
        "id": "3rhKwLGs9uMV",
        "outputId": "6233275f-9451-4245-a445-3043183879e3"
      },
      "execution_count": null,
      "outputs": [
        {
          "output_type": "execute_result",
          "data": {
            "text/plain": [
              "9"
            ]
          },
          "metadata": {},
          "execution_count": 35
        }
      ]
    },
    {
      "cell_type": "code",
      "source": [
        "class Televisao(object):\n",
        "    def __init__(self, marca, polegadas, on, canal=13):\n",
        "        self.marca = marca\n",
        "        self.polegadas = polegadas\n",
        "        self.on = on\n",
        "        self.canal = canal\n",
        "\n",
        "    def liga(self):\n",
        "        self.on = True\n",
        "\n",
        "    def desliga(self):\n",
        "        self.on = False\n",
        "\n",
        "    def muda_canal(self, novo_canal):\n",
        "        self.canal = novo_canal\n"
      ],
      "metadata": {
        "id": "9ANxI6rU-Mm4"
      },
      "execution_count": null,
      "outputs": []
    },
    {
      "cell_type": "code",
      "source": [
        "minha_tv = Televisao('Samsung', 60, False)"
      ],
      "metadata": {
        "id": "9iqNWtYeA11p"
      },
      "execution_count": null,
      "outputs": []
    },
    {
      "cell_type": "code",
      "source": [
        "minha_tv = minha_tv.liga()\n",
        "print(minha_tv.on)"
      ],
      "metadata": {
        "colab": {
          "base_uri": "https://localhost:8080/",
          "height": 183
        },
        "id": "Y1xvt4UKA695",
        "outputId": "03119605-b1f2-4679-c63a-80957adc4d21"
      },
      "execution_count": null,
      "outputs": [
        {
          "output_type": "error",
          "ename": "AttributeError",
          "evalue": "ignored",
          "traceback": [
            "\u001b[0;31m---------------------------------------------------------------------------\u001b[0m",
            "\u001b[0;31mAttributeError\u001b[0m                            Traceback (most recent call last)",
            "\u001b[0;32m<ipython-input-21-93151dc551af>\u001b[0m in \u001b[0;36m<cell line: 2>\u001b[0;34m()\u001b[0m\n\u001b[1;32m      1\u001b[0m \u001b[0mminha_tv\u001b[0m \u001b[0;34m=\u001b[0m \u001b[0mminha_tv\u001b[0m\u001b[0;34m.\u001b[0m\u001b[0mliga\u001b[0m\u001b[0;34m(\u001b[0m\u001b[0;34m)\u001b[0m\u001b[0;34m\u001b[0m\u001b[0;34m\u001b[0m\u001b[0m\n\u001b[0;32m----> 2\u001b[0;31m \u001b[0mprint\u001b[0m\u001b[0;34m(\u001b[0m\u001b[0mminha_tv\u001b[0m\u001b[0;34m.\u001b[0m\u001b[0mon\u001b[0m\u001b[0;34m)\u001b[0m\u001b[0;34m\u001b[0m\u001b[0;34m\u001b[0m\u001b[0m\n\u001b[0m",
            "\u001b[0;31mAttributeError\u001b[0m: 'NoneType' object has no attribute 'on'"
          ]
        }
      ]
    },
    {
      "cell_type": "code",
      "source": [
        "import math\n",
        "\n",
        "math.pi"
      ],
      "metadata": {
        "colab": {
          "base_uri": "https://localhost:8080/"
        },
        "id": "3ooV0JO3A4Hr",
        "outputId": "c1367f19-cbbe-4e05-d025-abc0ce668c0e"
      },
      "execution_count": null,
      "outputs": [
        {
          "output_type": "execute_result",
          "data": {
            "text/plain": [
              "3.141592653589793"
            ]
          },
          "metadata": {},
          "execution_count": 39
        }
      ]
    },
    {
      "cell_type": "code",
      "source": [
        "math.cos(34)"
      ],
      "metadata": {
        "colab": {
          "base_uri": "https://localhost:8080/"
        },
        "id": "_jqK6bL5A8hK",
        "outputId": "bbb29cf0-f638-4361-e931-24920596518b"
      },
      "execution_count": null,
      "outputs": [
        {
          "output_type": "execute_result",
          "data": {
            "text/plain": [
              "-0.8485702747846052"
            ]
          },
          "metadata": {},
          "execution_count": 41
        }
      ]
    },
    {
      "cell_type": "code",
      "source": [
        "import random\n",
        "\n",
        "random.random()"
      ],
      "metadata": {
        "colab": {
          "base_uri": "https://localhost:8080/"
        },
        "id": "oXo7UQ5tBFL5",
        "outputId": "d42b0fa5-8f2e-4935-a8e1-da3c3c419cea"
      },
      "execution_count": null,
      "outputs": [
        {
          "output_type": "execute_result",
          "data": {
            "text/plain": [
              "0.19146388008476167"
            ]
          },
          "metadata": {},
          "execution_count": 43
        }
      ]
    },
    {
      "cell_type": "code",
      "source": [
        "from random import choice\n",
        "\n",
        "lista = ['pedra', 'papel', 'tesoura']\n",
        "\n",
        "random.choice(lista)"
      ],
      "metadata": {
        "colab": {
          "base_uri": "https://localhost:8080/",
          "height": 35
        },
        "id": "FU5tH-z9BLgZ",
        "outputId": "59463c02-29b0-4f94-af09-657560968afd"
      },
      "execution_count": null,
      "outputs": [
        {
          "output_type": "execute_result",
          "data": {
            "text/plain": [
              "'pedra'"
            ],
            "application/vnd.google.colaboratory.intrinsic+json": {
              "type": "string"
            }
          },
          "metadata": {},
          "execution_count": 55
        }
      ]
    },
    {
      "cell_type": "code",
      "source": [
        "from numpy import mean \n",
        "\n",
        "idades = [1, 2, 5, 88, 95, 35, 22]\n",
        "\n",
        "mean(idades)"
      ],
      "metadata": {
        "colab": {
          "base_uri": "https://localhost:8080/"
        },
        "id": "oGbjruSgBg_V",
        "outputId": "7033b378-48f1-4346-83aa-ebc1afafea52"
      },
      "execution_count": null,
      "outputs": [
        {
          "output_type": "execute_result",
          "data": {
            "text/plain": [
              "35.42857142857143"
            ]
          },
          "metadata": {},
          "execution_count": 57
        }
      ]
    },
    {
      "cell_type": "code",
      "source": [
        "!pip install holidays\n",
        "!ls -la"
      ],
      "metadata": {
        "colab": {
          "base_uri": "https://localhost:8080/"
        },
        "id": "ULWgORAMB9jB",
        "outputId": "64ca3234-a471-4e9f-b19d-8f25cfdf4c7f"
      },
      "execution_count": null,
      "outputs": [
        {
          "output_type": "stream",
          "name": "stdout",
          "text": [
            "Looking in indexes: https://pypi.org/simple, https://us-python.pkg.dev/colab-wheels/public/simple/\n",
            "Requirement already satisfied: holidays in /usr/local/lib/python3.10/dist-packages (0.23)\n",
            "Requirement already satisfied: convertdate>=2.3.0 in /usr/local/lib/python3.10/dist-packages (from holidays) (2.4.0)\n",
            "Requirement already satisfied: hijri-converter in /usr/local/lib/python3.10/dist-packages (from holidays) (2.3.1)\n",
            "Requirement already satisfied: korean-lunar-calendar in /usr/local/lib/python3.10/dist-packages (from holidays) (0.3.1)\n",
            "Requirement already satisfied: python-dateutil in /usr/local/lib/python3.10/dist-packages (from holidays) (2.8.2)\n",
            "Requirement already satisfied: pymeeus<=1,>=0.3.13 in /usr/local/lib/python3.10/dist-packages (from convertdate>=2.3.0->holidays) (0.5.12)\n",
            "Requirement already satisfied: six>=1.5 in /usr/local/lib/python3.10/dist-packages (from python-dateutil->holidays) (1.16.0)\n",
            "total 16\n",
            "drwxr-xr-x 1 root root 4096 May  9 13:35 .\n",
            "drwxr-xr-x 1 root root 4096 May 10 17:59 ..\n",
            "drwxr-xr-x 4 root root 4096 May  9 13:34 .config\n",
            "drwxr-xr-x 1 root root 4096 May  9 13:35 sample_data\n"
          ]
        }
      ]
    },
    {
      "cell_type": "code",
      "source": [
        "from datetime import date\n",
        "import holidays\n",
        "\n",
        "br_feriados = holidays.BR()\n",
        "date = date(2023, 4, 1) in br_feriados\n",
        "print(date)"
      ],
      "metadata": {
        "colab": {
          "base_uri": "https://localhost:8080/"
        },
        "id": "LIMmWW7DCY7H",
        "outputId": "3d6971ac-8c4d-420e-921f-fe16ae02e659"
      },
      "execution_count": null,
      "outputs": [
        {
          "output_type": "stream",
          "name": "stdout",
          "text": [
            "False\n"
          ]
        }
      ]
    },
    {
      "cell_type": "code",
      "source": [
        "[metodo for metodo in dir(list) if metodo[0] != '_']"
      ],
      "metadata": {
        "colab": {
          "base_uri": "https://localhost:8080/"
        },
        "id": "LusMYpAjCwfF",
        "outputId": "046c3858-5f3e-4cdf-f18d-073403cc2e06"
      },
      "execution_count": null,
      "outputs": [
        {
          "output_type": "execute_result",
          "data": {
            "text/plain": [
              "['append',\n",
              " 'clear',\n",
              " 'copy',\n",
              " 'count',\n",
              " 'extend',\n",
              " 'index',\n",
              " 'insert',\n",
              " 'pop',\n",
              " 'remove',\n",
              " 'reverse',\n",
              " 'sort']"
            ]
          },
          "metadata": {},
          "execution_count": 41
        }
      ]
    },
    {
      "cell_type": "code",
      "source": [
        "from random import choice\n",
        "\n",
        "amigos = ['bob', 'bia', 'ted', 'bill', 'lisa']\n",
        "\n",
        "\n",
        "# Função de sorteio\n",
        "def amigo_oculto(nomes):\n",
        "    presenteia = nomes.copy()\n",
        "    recebe = []\n",
        "\n",
        "    # Escolhe a pessoa e remove ela da lista de sorteio\n",
        "    for pessoa in range(0, len(nomes)):\n",
        "        print(pessoa)\n",
        "        print(nomes)\n",
        "        print(presenteia)\n",
        "        escolhido = choice(nomes)\n",
        "        # Impede que a pessoa sorteie a si mesmo\n",
        "        while escolhido == presenteia[pessoa]:\n",
        "            escolhido = choice(nomes)\n",
        "        print(escolhido)\n",
        "        recebe.append(escolhido)\n",
        "        nomes.remove(escolhido)\n",
        "        print(recebe)\n",
        "\n",
        "\n",
        "    # Mostra a o sorteio\n",
        "    for c in range(0, len(presenteia) - 1):\n",
        "        print(presenteia[c], '>', recebe[c])\n",
        "\n",
        "amigo_oculto(amigos)"
      ],
      "metadata": {
        "colab": {
          "base_uri": "https://localhost:8080/"
        },
        "id": "RuwV7IkSDA-Z",
        "outputId": "a2022259-76b1-419a-a22c-5567cca1d234"
      },
      "execution_count": null,
      "outputs": [
        {
          "output_type": "stream",
          "name": "stdout",
          "text": [
            "0\n",
            "['bob', 'bia', 'ted', 'bill', 'lisa']\n",
            "['bob', 'bia', 'ted', 'bill', 'lisa']\n",
            "bill\n",
            "['bill']\n",
            "1\n",
            "['bob', 'bia', 'ted', 'lisa']\n",
            "['bob', 'bia', 'ted', 'bill', 'lisa']\n",
            "bob\n",
            "['bill', 'bob']\n",
            "2\n",
            "['bia', 'ted', 'lisa']\n",
            "['bob', 'bia', 'ted', 'bill', 'lisa']\n",
            "lisa\n",
            "['bill', 'bob', 'lisa']\n",
            "3\n",
            "['bia', 'ted']\n",
            "['bob', 'bia', 'ted', 'bill', 'lisa']\n",
            "ted\n",
            "['bill', 'bob', 'lisa', 'ted']\n",
            "4\n",
            "['bia']\n",
            "['bob', 'bia', 'ted', 'bill', 'lisa']\n",
            "bia\n",
            "['bill', 'bob', 'lisa', 'ted', 'bia']\n",
            "bob > bill\n",
            "bia > bob\n",
            "ted > lisa\n",
            "bill > ted\n"
          ]
        }
      ]
    },
    {
      "cell_type": "code",
      "source": [
        "from random import choice\n",
        "\n",
        "amigos = ['bob', 'bia', 'ted', 'bill', 'lisa']\n",
        "\n",
        "\n",
        "# Função de sorteio\n",
        "def amigo_oculto(nomes):\n",
        "    presenteia = nomes.copy()\n",
        "    recebe = []\n",
        "    # Primeiro da lista não vai pra sorteio\n",
        "    nomes.pop(0)\n",
        "    \n",
        "    # Escolhe a pessoa e remove ela da lista de sorteio\n",
        "    for pessoa in range(0, len(nomes) - 1):\n",
        "        print(pessoa)\n",
        "        print(\"Sorteáveis:\", nomes)\n",
        "        print(\"Presenteia:\", presenteia)\n",
        "        escolhido = choice(nomes)\n",
        "        # Impede que a pessoa sorteie a si mesmo\n",
        "        while escolhido == presenteia[pessoa]:\n",
        "            escolhido = choice(nomes)\n",
        "        print(\"Escolhido:\", escolhido)\n",
        "        # Tira as pessoas já sorteadas dos próximos sorteios\n",
        "        recebe.append(escolhido)\n",
        "        nomes.remove(escolhido)\n",
        "        print(\"Recebe:\", recebe)\n",
        "        if len(nomes) == 0:\n",
        "            recebe.append(presenteia[1])\n",
        "\n",
        "\n",
        "    # Mostra a o sorteio\n",
        "    for c in range(0, len(presenteia) - 1):\n",
        "        print(c)\n",
        "        print(presenteia[c], '>', recebe[c])\n",
        "\n",
        "amigo_oculto(amigos)"
      ],
      "metadata": {
        "colab": {
          "base_uri": "https://localhost:8080/",
          "height": 703
        },
        "outputId": "4b14a6a6-6cb3-43fe-d415-8898199aaddd",
        "id": "o5lWvTpP6kjT"
      },
      "execution_count": null,
      "outputs": [
        {
          "output_type": "stream",
          "name": "stdout",
          "text": [
            "0\n",
            "Sorteáveis: ['bia', 'ted', 'bill', 'lisa']\n",
            "Presenteia: ['bob', 'bia', 'ted', 'bill', 'lisa']\n",
            "Escolhido: lisa\n",
            "Recebe: ['lisa']\n",
            "1\n",
            "Sorteáveis: ['bia', 'ted', 'bill']\n",
            "Presenteia: ['bob', 'bia', 'ted', 'bill', 'lisa']\n",
            "Escolhido: bill\n",
            "Recebe: ['lisa', 'bill']\n",
            "2\n",
            "Sorteáveis: ['bia', 'ted']\n",
            "Presenteia: ['bob', 'bia', 'ted', 'bill', 'lisa']\n",
            "Escolhido: bia\n",
            "Recebe: ['lisa', 'bill', 'bia']\n",
            "0\n",
            "bob > lisa\n",
            "1\n",
            "bia > bill\n",
            "2\n",
            "ted > bia\n",
            "3\n"
          ]
        },
        {
          "output_type": "error",
          "ename": "IndexError",
          "evalue": "ignored",
          "traceback": [
            "\u001b[0;31m---------------------------------------------------------------------------\u001b[0m",
            "\u001b[0;31mIndexError\u001b[0m                                Traceback (most recent call last)",
            "\u001b[0;32m<ipython-input-37-f0068a7bfd52>\u001b[0m in \u001b[0;36m<cell line: 36>\u001b[0;34m()\u001b[0m\n\u001b[1;32m     34\u001b[0m         \u001b[0mprint\u001b[0m\u001b[0;34m(\u001b[0m\u001b[0mpresenteia\u001b[0m\u001b[0;34m[\u001b[0m\u001b[0mc\u001b[0m\u001b[0;34m]\u001b[0m\u001b[0;34m,\u001b[0m \u001b[0;34m'>'\u001b[0m\u001b[0;34m,\u001b[0m \u001b[0mrecebe\u001b[0m\u001b[0;34m[\u001b[0m\u001b[0mc\u001b[0m\u001b[0;34m]\u001b[0m\u001b[0;34m)\u001b[0m\u001b[0;34m\u001b[0m\u001b[0;34m\u001b[0m\u001b[0m\n\u001b[1;32m     35\u001b[0m \u001b[0;34m\u001b[0m\u001b[0m\n\u001b[0;32m---> 36\u001b[0;31m \u001b[0mamigo_oculto\u001b[0m\u001b[0;34m(\u001b[0m\u001b[0mamigos\u001b[0m\u001b[0;34m)\u001b[0m\u001b[0;34m\u001b[0m\u001b[0;34m\u001b[0m\u001b[0m\n\u001b[0m",
            "\u001b[0;32m<ipython-input-37-f0068a7bfd52>\u001b[0m in \u001b[0;36mamigo_oculto\u001b[0;34m(nomes)\u001b[0m\n\u001b[1;32m     32\u001b[0m     \u001b[0;32mfor\u001b[0m \u001b[0mc\u001b[0m \u001b[0;32min\u001b[0m \u001b[0mrange\u001b[0m\u001b[0;34m(\u001b[0m\u001b[0;36m0\u001b[0m\u001b[0;34m,\u001b[0m \u001b[0mlen\u001b[0m\u001b[0;34m(\u001b[0m\u001b[0mpresenteia\u001b[0m\u001b[0;34m)\u001b[0m \u001b[0;34m-\u001b[0m \u001b[0;36m1\u001b[0m\u001b[0;34m)\u001b[0m\u001b[0;34m:\u001b[0m\u001b[0;34m\u001b[0m\u001b[0;34m\u001b[0m\u001b[0m\n\u001b[1;32m     33\u001b[0m         \u001b[0mprint\u001b[0m\u001b[0;34m(\u001b[0m\u001b[0mc\u001b[0m\u001b[0;34m)\u001b[0m\u001b[0;34m\u001b[0m\u001b[0;34m\u001b[0m\u001b[0m\n\u001b[0;32m---> 34\u001b[0;31m         \u001b[0mprint\u001b[0m\u001b[0;34m(\u001b[0m\u001b[0mpresenteia\u001b[0m\u001b[0;34m[\u001b[0m\u001b[0mc\u001b[0m\u001b[0;34m]\u001b[0m\u001b[0;34m,\u001b[0m \u001b[0;34m'>'\u001b[0m\u001b[0;34m,\u001b[0m \u001b[0mrecebe\u001b[0m\u001b[0;34m[\u001b[0m\u001b[0mc\u001b[0m\u001b[0;34m]\u001b[0m\u001b[0;34m)\u001b[0m\u001b[0;34m\u001b[0m\u001b[0;34m\u001b[0m\u001b[0m\n\u001b[0m\u001b[1;32m     35\u001b[0m \u001b[0;34m\u001b[0m\u001b[0m\n\u001b[1;32m     36\u001b[0m \u001b[0mamigo_oculto\u001b[0m\u001b[0;34m(\u001b[0m\u001b[0mamigos\u001b[0m\u001b[0;34m)\u001b[0m\u001b[0;34m\u001b[0m\u001b[0;34m\u001b[0m\u001b[0m\n",
            "\u001b[0;31mIndexError\u001b[0m: list index out of range"
          ]
        }
      ]
    },
    {
      "cell_type": "code",
      "source": [
        "print(amigos)\n",
        "print(len(amigos))"
      ],
      "metadata": {
        "colab": {
          "base_uri": "https://localhost:8080/"
        },
        "id": "hJEJW0ry9cIE",
        "outputId": "aaea9fcb-1dd0-4067-bad1-9858a74dfb75"
      },
      "execution_count": null,
      "outputs": [
        {
          "output_type": "stream",
          "name": "stdout",
          "text": [
            "['ted']\n",
            "1\n"
          ]
        }
      ]
    },
    {
      "cell_type": "code",
      "source": [
        "import random\n",
        "\n",
        "amigos = ['bob', 'bia', 'ted', 'bill', 'lisa', 'artie']\n",
        "\n",
        "# Função de sorteio\n",
        "def amigo_oculto(nomes):\n",
        "    sorteado = nomes.copy()\n",
        "\n",
        "    # Aleatoriza a lista\n",
        "    random.shuffle(sorteado)\n",
        "    return sorteado\n",
        "\n",
        "sorteio = amigo_oculto(amigos)\n",
        "\n",
        "# mostra resultado do sorteio\n",
        "for c in range(0, len(sorteio)):\n",
        "    if c < len(sorteio) - 1:\n",
        "        print(sorteio[c], '\\t>>>\\t', sorteio[c+1])\n",
        "    else: \n",
        "        print(sorteio[c], '\\t>>>\\t', sorteio[0])"
      ],
      "metadata": {
        "id": "jQ_8bF6c_XX9",
        "colab": {
          "base_uri": "https://localhost:8080/"
        },
        "outputId": "0c4d155d-cfcd-494d-b7ba-7b1434423484"
      },
      "execution_count": null,
      "outputs": [
        {
          "output_type": "stream",
          "name": "stdout",
          "text": [
            "bia \t>>>\t bill\n",
            "bill \t>>>\t bob\n",
            "bob \t>>>\t ted\n",
            "ted \t>>>\t lisa\n",
            "lisa \t>>>\t artie\n",
            "artie \t>>>\t bia\n"
          ]
        }
      ]
    },
    {
      "cell_type": "code",
      "source": [
        "import random\n",
        "\n",
        "amigos = ['bob', 'bia', 'ted', 'bill', 'lisa', 'artie']\n",
        "\n",
        "# Função de sorteio\n",
        "def amigo_oculto(nomes):\n",
        "    sorteado = nomes.copy()\n",
        "\n",
        "    # Aleatoriza a lista\n",
        "    random.shuffle(sorteado)\n",
        "    return sorteado\n",
        "\n",
        "sorteio = amigo_oculto(amigos)\n",
        "\n",
        "# mostra resultado do sorteio\n",
        "for c in range(0, len(sorteio)):\n",
        "    if c < len(sorteio) - 1:\n",
        "        print(sorteio[c], '\\t>>>\\t', sorteio[c+1])\n",
        "    else: \n",
        "        print(sorteio[c], '\\t>>>\\t', sorteio[0])"
      ],
      "metadata": {
        "id": "8rs6Wti3ddVM"
      },
      "execution_count": null,
      "outputs": []
    }
  ]
}